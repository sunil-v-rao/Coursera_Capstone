{
    "cells": [
        {
            "cell_type": "markdown",
            "metadata": {
                "collapsed": true
            },
            "source": "# IBM Data Science Specialization Capstone Project"
        },
        {
            "cell_type": "markdown",
            "metadata": {},
            "source": "## Introduction/Business Problem"
        },
        {
            "cell_type": "markdown",
            "metadata": {},
            "source": "A description of the problem and a discussion of the background.\n\nIndia is the seventh-largest country by area, the second-most populous country, and the most populous democracy in the world. India has very rich cultural heritage dating back to 6500 BCE. Since India achieved its independence in 1947, the country is making constant progress in all areas. Its people have travelled across the world and have taken their culture to those countries. Indian diaspora is actively engaged, contributing significantly to local development and relationship with India. Many Indians travel to different places across. Indian cuisine is now popular all over.\n\nCanada is home to the world's tenth largest Indian diaspora. The Indo-Canadian population according to the Census 2016 is 1,374,710\t(3.9%). Toronto is an international center of business, finance, arts, and culture, and is recognized as one of the most multicultural and cosmopolitan cities in the world. 10.4% of Indian diaspora live in the City of Toronto.\n\nThere are many Indian restaurants in the City of Toronto to cater to people of South Asian origin, travelers from India and other South Asian countries and people who like Indian Cuisine. As per research by Restaurants Canada, the food service commercial food service will improve with 4.0% in 2020 and by 2021, combined commercial and non-commercial foodservice sales are forecast to surpass the $100-billion mark.\n\nMany factors are required to run successful restaurants - a good location, consistent clientele, great chef, great menu, comfortable d\u00e9cor, good customer service, etc...\n\nThe objective of this project is to find out suitable locations in Toronto to start a new Indian Restaurant using Machine learning utilizing census, demographic data and location, type information of other businesses . \n\nSources: Wikipedia website (https://en.wikipedia.org/), Restaurants Canada website (https://www.restaurantscanada.org/)"
        },
        {
            "cell_type": "markdown",
            "metadata": {},
            "source": "## Data"
        },
        {
            "cell_type": "markdown",
            "metadata": {},
            "source": "A description of the data and how it will be used to solve the problem.\n\nThe following data sources will be utilized in finding suitable neighborhood in the City of Toronto.\n* List of neighborhoods along with latitude and longitude - Neighbourhood data from https://open.toronto.ca/dataset/neighbourhoods/\n* Census, demographic data for the neighborhoods - Neighbourhood Profiles data https://open.toronto.ca/dataset/neighbourhood-profiles/\n* Venue data related to restaurants in the neighborhoods - Using Foursquare API https://foursquare.com/\n\nThe neighborhoods data (area name, latitude and longitude) data is used to get a list of neighborhoods in Toronto and displaying in geo map. Relevant data such as census, area, population is extracted from Neighbourhood Profiles. Using geo location data from Neighbourhood dataset and Foursquare API, data related to venues in each neighborhood is obtained. The demographic data and venues data is merged to create a unified data set. The unified data set is further analyzed using K-Nearest Neighbor machine learning algorithm to classify neighborhoods into different sets based on similarity. The sets are analyzed to find out suitable neighborhoods to start a new Indian restaurant."
        },
        {
            "cell_type": "code",
            "execution_count": null,
            "metadata": {},
            "outputs": [],
            "source": ""
        }
    ],
    "metadata": {
        "kernelspec": {
            "display_name": "Python 3.6",
            "language": "python",
            "name": "python3"
        },
        "language_info": {
            "codemirror_mode": {
                "name": "ipython",
                "version": 3
            },
            "file_extension": ".py",
            "mimetype": "text/x-python",
            "name": "python",
            "nbconvert_exporter": "python",
            "pygments_lexer": "ipython3",
            "version": "3.6.9"
        }
    },
    "nbformat": 4,
    "nbformat_minor": 1
}